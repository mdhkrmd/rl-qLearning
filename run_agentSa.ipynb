{
 "cells": [
  {
   "cell_type": "code",
   "execution_count": 12,
   "id": "26f45f30",
   "metadata": {},
   "outputs": [
    {
     "name": "stdout",
     "output_type": "stream",
     "text": [
      "CPU times: total: 797 ms\n",
      "Wall time: 14min 36s\n"
     ]
    },
    {
     "name": "stderr",
     "output_type": "stream",
     "text": [
      "F:\\Computer Science\\Python\\AI Mastery - Orbit\\AI Domain - Reinforcement Learning\\6. Ujian Praktik\\agent_brainSa.py:73: FutureWarning: The frame.append method is deprecated and will be removed from pandas in a future version. Use pandas.concat instead.\n",
      "  self.q_table = self.q_table.append(\n",
      "F:\\Computer Science\\Python\\AI Mastery - Orbit\\AI Domain - Reinforcement Learning\\6. Ujian Praktik\\agent_brainSa.py:73: FutureWarning: The frame.append method is deprecated and will be removed from pandas in a future version. Use pandas.concat instead.\n",
      "  self.q_table = self.q_table.append(\n",
      "F:\\Computer Science\\Python\\AI Mastery - Orbit\\AI Domain - Reinforcement Learning\\6. Ujian Praktik\\agent_brainSa.py:73: FutureWarning: The frame.append method is deprecated and will be removed from pandas in a future version. Use pandas.concat instead.\n",
      "  self.q_table = self.q_table.append(\n",
      "F:\\Computer Science\\Python\\AI Mastery - Orbit\\AI Domain - Reinforcement Learning\\6. Ujian Praktik\\agent_brainSa.py:73: FutureWarning: The frame.append method is deprecated and will be removed from pandas in a future version. Use pandas.concat instead.\n",
      "  self.q_table = self.q_table.append(\n",
      "F:\\Computer Science\\Python\\AI Mastery - Orbit\\AI Domain - Reinforcement Learning\\6. Ujian Praktik\\agent_brainSa.py:73: FutureWarning: The frame.append method is deprecated and will be removed from pandas in a future version. Use pandas.concat instead.\n",
      "  self.q_table = self.q_table.append(\n",
      "F:\\Computer Science\\Python\\AI Mastery - Orbit\\AI Domain - Reinforcement Learning\\6. Ujian Praktik\\agent_brainSa.py:73: FutureWarning: The frame.append method is deprecated and will be removed from pandas in a future version. Use pandas.concat instead.\n",
      "  self.q_table = self.q_table.append(\n",
      "F:\\Computer Science\\Python\\AI Mastery - Orbit\\AI Domain - Reinforcement Learning\\6. Ujian Praktik\\agent_brainSa.py:73: FutureWarning: The frame.append method is deprecated and will be removed from pandas in a future version. Use pandas.concat instead.\n",
      "  self.q_table = self.q_table.append(\n",
      "F:\\Computer Science\\Python\\AI Mastery - Orbit\\AI Domain - Reinforcement Learning\\6. Ujian Praktik\\agent_brainSa.py:73: FutureWarning: The frame.append method is deprecated and will be removed from pandas in a future version. Use pandas.concat instead.\n",
      "  self.q_table = self.q_table.append(\n",
      "F:\\Computer Science\\Python\\AI Mastery - Orbit\\AI Domain - Reinforcement Learning\\6. Ujian Praktik\\agent_brainSa.py:73: FutureWarning: The frame.append method is deprecated and will be removed from pandas in a future version. Use pandas.concat instead.\n",
      "  self.q_table = self.q_table.append(\n",
      "F:\\Computer Science\\Python\\AI Mastery - Orbit\\AI Domain - Reinforcement Learning\\6. Ujian Praktik\\agent_brainSa.py:73: FutureWarning: The frame.append method is deprecated and will be removed from pandas in a future version. Use pandas.concat instead.\n",
      "  self.q_table = self.q_table.append(\n",
      "F:\\Computer Science\\Python\\AI Mastery - Orbit\\AI Domain - Reinforcement Learning\\6. Ujian Praktik\\agent_brainSa.py:73: FutureWarning: The frame.append method is deprecated and will be removed from pandas in a future version. Use pandas.concat instead.\n",
      "  self.q_table = self.q_table.append(\n",
      "F:\\Computer Science\\Python\\AI Mastery - Orbit\\AI Domain - Reinforcement Learning\\6. Ujian Praktik\\agent_brainSa.py:73: FutureWarning: The frame.append method is deprecated and will be removed from pandas in a future version. Use pandas.concat instead.\n",
      "  self.q_table = self.q_table.append(\n",
      "F:\\Computer Science\\Python\\AI Mastery - Orbit\\AI Domain - Reinforcement Learning\\6. Ujian Praktik\\agent_brainSa.py:73: FutureWarning: The frame.append method is deprecated and will be removed from pandas in a future version. Use pandas.concat instead.\n",
      "  self.q_table = self.q_table.append(\n",
      "F:\\Computer Science\\Python\\AI Mastery - Orbit\\AI Domain - Reinforcement Learning\\6. Ujian Praktik\\agent_brainSa.py:73: FutureWarning: The frame.append method is deprecated and will be removed from pandas in a future version. Use pandas.concat instead.\n",
      "  self.q_table = self.q_table.append(\n",
      "F:\\Computer Science\\Python\\AI Mastery - Orbit\\AI Domain - Reinforcement Learning\\6. Ujian Praktik\\agent_brainSa.py:73: FutureWarning: The frame.append method is deprecated and will be removed from pandas in a future version. Use pandas.concat instead.\n",
      "  self.q_table = self.q_table.append(\n",
      "F:\\Computer Science\\Python\\AI Mastery - Orbit\\AI Domain - Reinforcement Learning\\6. Ujian Praktik\\agent_brainSa.py:73: FutureWarning: The frame.append method is deprecated and will be removed from pandas in a future version. Use pandas.concat instead.\n",
      "  self.q_table = self.q_table.append(\n",
      "F:\\Computer Science\\Python\\AI Mastery - Orbit\\AI Domain - Reinforcement Learning\\6. Ujian Praktik\\agent_brainSa.py:73: FutureWarning: The frame.append method is deprecated and will be removed from pandas in a future version. Use pandas.concat instead.\n",
      "  self.q_table = self.q_table.append(\n",
      "F:\\Computer Science\\Python\\AI Mastery - Orbit\\AI Domain - Reinforcement Learning\\6. Ujian Praktik\\agent_brainSa.py:73: FutureWarning: The frame.append method is deprecated and will be removed from pandas in a future version. Use pandas.concat instead.\n",
      "  self.q_table = self.q_table.append(\n",
      "F:\\Computer Science\\Python\\AI Mastery - Orbit\\AI Domain - Reinforcement Learning\\6. Ujian Praktik\\agent_brainSa.py:73: FutureWarning: The frame.append method is deprecated and will be removed from pandas in a future version. Use pandas.concat instead.\n",
      "  self.q_table = self.q_table.append(\n",
      "F:\\Computer Science\\Python\\AI Mastery - Orbit\\AI Domain - Reinforcement Learning\\6. Ujian Praktik\\agent_brainSa.py:73: FutureWarning: The frame.append method is deprecated and will be removed from pandas in a future version. Use pandas.concat instead.\n",
      "  self.q_table = self.q_table.append(\n",
      "F:\\Computer Science\\Python\\AI Mastery - Orbit\\AI Domain - Reinforcement Learning\\6. Ujian Praktik\\agent_brainSa.py:73: FutureWarning: The frame.append method is deprecated and will be removed from pandas in a future version. Use pandas.concat instead.\n",
      "  self.q_table = self.q_table.append(\n",
      "F:\\Computer Science\\Python\\AI Mastery - Orbit\\AI Domain - Reinforcement Learning\\6. Ujian Praktik\\agent_brainSa.py:73: FutureWarning: The frame.append method is deprecated and will be removed from pandas in a future version. Use pandas.concat instead.\n",
      "  self.q_table = self.q_table.append(\n",
      "F:\\Computer Science\\Python\\AI Mastery - Orbit\\AI Domain - Reinforcement Learning\\6. Ujian Praktik\\agent_brainSa.py:73: FutureWarning: The frame.append method is deprecated and will be removed from pandas in a future version. Use pandas.concat instead.\n",
      "  self.q_table = self.q_table.append(\n",
      "F:\\Computer Science\\Python\\AI Mastery - Orbit\\AI Domain - Reinforcement Learning\\6. Ujian Praktik\\agent_brainSa.py:73: FutureWarning: The frame.append method is deprecated and will be removed from pandas in a future version. Use pandas.concat instead.\n",
      "  self.q_table = self.q_table.append(\n",
      "F:\\Computer Science\\Python\\AI Mastery - Orbit\\AI Domain - Reinforcement Learning\\6. Ujian Praktik\\agent_brainSa.py:73: FutureWarning: The frame.append method is deprecated and will be removed from pandas in a future version. Use pandas.concat instead.\n",
      "  self.q_table = self.q_table.append(\n",
      "F:\\Computer Science\\Python\\AI Mastery - Orbit\\AI Domain - Reinforcement Learning\\6. Ujian Praktik\\agent_brainSa.py:73: FutureWarning: The frame.append method is deprecated and will be removed from pandas in a future version. Use pandas.concat instead.\n",
      "  self.q_table = self.q_table.append(\n",
      "F:\\Computer Science\\Python\\AI Mastery - Orbit\\AI Domain - Reinforcement Learning\\6. Ujian Praktik\\agent_brainSa.py:73: FutureWarning: The frame.append method is deprecated and will be removed from pandas in a future version. Use pandas.concat instead.\n",
      "  self.q_table = self.q_table.append(\n",
      "F:\\Computer Science\\Python\\AI Mastery - Orbit\\AI Domain - Reinforcement Learning\\6. Ujian Praktik\\agent_brainSa.py:73: FutureWarning: The frame.append method is deprecated and will be removed from pandas in a future version. Use pandas.concat instead.\n",
      "  self.q_table = self.q_table.append(\n",
      "F:\\Computer Science\\Python\\AI Mastery - Orbit\\AI Domain - Reinforcement Learning\\6. Ujian Praktik\\agent_brainSa.py:73: FutureWarning: The frame.append method is deprecated and will be removed from pandas in a future version. Use pandas.concat instead.\n",
      "  self.q_table = self.q_table.append(\n",
      "F:\\Computer Science\\Python\\AI Mastery - Orbit\\AI Domain - Reinforcement Learning\\6. Ujian Praktik\\agent_brainSa.py:73: FutureWarning: The frame.append method is deprecated and will be removed from pandas in a future version. Use pandas.concat instead.\n",
      "  self.q_table = self.q_table.append(\n",
      "F:\\Computer Science\\Python\\AI Mastery - Orbit\\AI Domain - Reinforcement Learning\\6. Ujian Praktik\\agent_brainSa.py:73: FutureWarning: The frame.append method is deprecated and will be removed from pandas in a future version. Use pandas.concat instead.\n",
      "  self.q_table = self.q_table.append(\n",
      "F:\\Computer Science\\Python\\AI Mastery - Orbit\\AI Domain - Reinforcement Learning\\6. Ujian Praktik\\agent_brainSa.py:73: FutureWarning: The frame.append method is deprecated and will be removed from pandas in a future version. Use pandas.concat instead.\n",
      "  self.q_table = self.q_table.append(\n",
      "F:\\Computer Science\\Python\\AI Mastery - Orbit\\AI Domain - Reinforcement Learning\\6. Ujian Praktik\\agent_brainSa.py:73: FutureWarning: The frame.append method is deprecated and will be removed from pandas in a future version. Use pandas.concat instead.\n",
      "  self.q_table = self.q_table.append(\n",
      "F:\\Computer Science\\Python\\AI Mastery - Orbit\\AI Domain - Reinforcement Learning\\6. Ujian Praktik\\agent_brainSa.py:73: FutureWarning: The frame.append method is deprecated and will be removed from pandas in a future version. Use pandas.concat instead.\n",
      "  self.q_table = self.q_table.append(\n",
      "F:\\Computer Science\\Python\\AI Mastery - Orbit\\AI Domain - Reinforcement Learning\\6. Ujian Praktik\\agent_brainSa.py:73: FutureWarning: The frame.append method is deprecated and will be removed from pandas in a future version. Use pandas.concat instead.\n",
      "  self.q_table = self.q_table.append(\n",
      "F:\\Computer Science\\Python\\AI Mastery - Orbit\\AI Domain - Reinforcement Learning\\6. Ujian Praktik\\agent_brainSa.py:73: FutureWarning: The frame.append method is deprecated and will be removed from pandas in a future version. Use pandas.concat instead.\n",
      "  self.q_table = self.q_table.append(\n",
      "F:\\Computer Science\\Python\\AI Mastery - Orbit\\AI Domain - Reinforcement Learning\\6. Ujian Praktik\\agent_brainSa.py:73: FutureWarning: The frame.append method is deprecated and will be removed from pandas in a future version. Use pandas.concat instead.\n",
      "  self.q_table = self.q_table.append(\n",
      "F:\\Computer Science\\Python\\AI Mastery - Orbit\\AI Domain - Reinforcement Learning\\6. Ujian Praktik\\agent_brainSa.py:73: FutureWarning: The frame.append method is deprecated and will be removed from pandas in a future version. Use pandas.concat instead.\n",
      "  self.q_table = self.q_table.append(\n",
      "F:\\Computer Science\\Python\\AI Mastery - Orbit\\AI Domain - Reinforcement Learning\\6. Ujian Praktik\\agent_brainSa.py:73: FutureWarning: The frame.append method is deprecated and will be removed from pandas in a future version. Use pandas.concat instead.\n",
      "  self.q_table = self.q_table.append(\n",
      "F:\\Computer Science\\Python\\AI Mastery - Orbit\\AI Domain - Reinforcement Learning\\6. Ujian Praktik\\agent_brainSa.py:73: FutureWarning: The frame.append method is deprecated and will be removed from pandas in a future version. Use pandas.concat instead.\n",
      "  self.q_table = self.q_table.append(\n",
      "F:\\Computer Science\\Python\\AI Mastery - Orbit\\AI Domain - Reinforcement Learning\\6. Ujian Praktik\\agent_brainSa.py:73: FutureWarning: The frame.append method is deprecated and will be removed from pandas in a future version. Use pandas.concat instead.\n",
      "  self.q_table = self.q_table.append(\n",
      "F:\\Computer Science\\Python\\AI Mastery - Orbit\\AI Domain - Reinforcement Learning\\6. Ujian Praktik\\agent_brainSa.py:73: FutureWarning: The frame.append method is deprecated and will be removed from pandas in a future version. Use pandas.concat instead.\n",
      "  self.q_table = self.q_table.append(\n",
      "F:\\Computer Science\\Python\\AI Mastery - Orbit\\AI Domain - Reinforcement Learning\\6. Ujian Praktik\\agent_brainSa.py:73: FutureWarning: The frame.append method is deprecated and will be removed from pandas in a future version. Use pandas.concat instead.\n",
      "  self.q_table = self.q_table.append(\n",
      "F:\\Computer Science\\Python\\AI Mastery - Orbit\\AI Domain - Reinforcement Learning\\6. Ujian Praktik\\agent_brainSa.py:73: FutureWarning: The frame.append method is deprecated and will be removed from pandas in a future version. Use pandas.concat instead.\n",
      "  self.q_table = self.q_table.append(\n",
      "F:\\Computer Science\\Python\\AI Mastery - Orbit\\AI Domain - Reinforcement Learning\\6. Ujian Praktik\\agent_brainSa.py:73: FutureWarning: The frame.append method is deprecated and will be removed from pandas in a future version. Use pandas.concat instead.\n",
      "  self.q_table = self.q_table.append(\n",
      "F:\\Computer Science\\Python\\AI Mastery - Orbit\\AI Domain - Reinforcement Learning\\6. Ujian Praktik\\agent_brainSa.py:73: FutureWarning: The frame.append method is deprecated and will be removed from pandas in a future version. Use pandas.concat instead.\n",
      "  self.q_table = self.q_table.append(\n"
     ]
    },
    {
     "name": "stderr",
     "output_type": "stream",
     "text": [
      "F:\\Computer Science\\Python\\AI Mastery - Orbit\\AI Domain - Reinforcement Learning\\6. Ujian Praktik\\agent_brainSa.py:73: FutureWarning: The frame.append method is deprecated and will be removed from pandas in a future version. Use pandas.concat instead.\n",
      "  self.q_table = self.q_table.append(\n",
      "F:\\Computer Science\\Python\\AI Mastery - Orbit\\AI Domain - Reinforcement Learning\\6. Ujian Praktik\\agent_brainSa.py:73: FutureWarning: The frame.append method is deprecated and will be removed from pandas in a future version. Use pandas.concat instead.\n",
      "  self.q_table = self.q_table.append(\n",
      "F:\\Computer Science\\Python\\AI Mastery - Orbit\\AI Domain - Reinforcement Learning\\6. Ujian Praktik\\agent_brainSa.py:73: FutureWarning: The frame.append method is deprecated and will be removed from pandas in a future version. Use pandas.concat instead.\n",
      "  self.q_table = self.q_table.append(\n",
      "F:\\Computer Science\\Python\\AI Mastery - Orbit\\AI Domain - Reinforcement Learning\\6. Ujian Praktik\\agent_brainSa.py:73: FutureWarning: The frame.append method is deprecated and will be removed from pandas in a future version. Use pandas.concat instead.\n",
      "  self.q_table = self.q_table.append(\n",
      "F:\\Computer Science\\Python\\AI Mastery - Orbit\\AI Domain - Reinforcement Learning\\6. Ujian Praktik\\agent_brainSa.py:73: FutureWarning: The frame.append method is deprecated and will be removed from pandas in a future version. Use pandas.concat instead.\n",
      "  self.q_table = self.q_table.append(\n",
      "F:\\Computer Science\\Python\\AI Mastery - Orbit\\AI Domain - Reinforcement Learning\\6. Ujian Praktik\\agent_brainSa.py:73: FutureWarning: The frame.append method is deprecated and will be removed from pandas in a future version. Use pandas.concat instead.\n",
      "  self.q_table = self.q_table.append(\n",
      "F:\\Computer Science\\Python\\AI Mastery - Orbit\\AI Domain - Reinforcement Learning\\6. Ujian Praktik\\agent_brainSa.py:73: FutureWarning: The frame.append method is deprecated and will be removed from pandas in a future version. Use pandas.concat instead.\n",
      "  self.q_table = self.q_table.append(\n",
      "Exception in Tkinter callback\n",
      "Traceback (most recent call last):\n",
      "  File \"C:\\Users\\ACER\\anaconda3\\lib\\tkinter\\__init__.py\", line 1892, in __call__\n",
      "    return self.func(*args)\n",
      "  File \"C:\\Users\\ACER\\anaconda3\\lib\\tkinter\\__init__.py\", line 814, in callit\n",
      "    func(*args)\n",
      "  File \"F:\\Computer Science\\Python\\AI Mastery - Orbit\\AI Domain - Reinforcement Learning\\6. Ujian Praktik\\run_agentSa.py\", line 43, in update\n",
      "    observation_, reward, done = env.step(action)\n",
      "  File \"F:\\Computer Science\\Python\\AI Mastery - Orbit\\AI Domain - Reinforcement Learning\\6. Ujian Praktik\\envSa.py\", line 253, in step\n",
      "    state = self.canvas_widget.coords(self.agent)\n",
      "  File \"C:\\Users\\ACER\\anaconda3\\lib\\tkinter\\__init__.py\", line 2766, in coords\n",
      "    self.tk.call((self._w, 'coords') + args))]\n",
      "_tkinter.TclError: invalid command name \".!canvas\"\n"
     ]
    }
   ],
   "source": [
    "%%time\n",
    "!python run_agentSa.py"
   ]
  }
 ],
 "metadata": {
  "kernelspec": {
   "display_name": "Python 3 (ipykernel)",
   "language": "python",
   "name": "python3"
  },
  "language_info": {
   "codemirror_mode": {
    "name": "ipython",
    "version": 3
   },
   "file_extension": ".py",
   "mimetype": "text/x-python",
   "name": "python",
   "nbconvert_exporter": "python",
   "pygments_lexer": "ipython3",
   "version": "3.9.12"
  },
  "varInspector": {
   "cols": {
    "lenName": 16,
    "lenType": 16,
    "lenVar": 40
   },
   "kernels_config": {
    "python": {
     "delete_cmd_postfix": "",
     "delete_cmd_prefix": "del ",
     "library": "var_list.py",
     "varRefreshCmd": "print(var_dic_list())"
    },
    "r": {
     "delete_cmd_postfix": ") ",
     "delete_cmd_prefix": "rm(",
     "library": "var_list.r",
     "varRefreshCmd": "cat(var_dic_list()) "
    }
   },
   "types_to_exclude": [
    "module",
    "function",
    "builtin_function_or_method",
    "instance",
    "_Feature"
   ],
   "window_display": false
  }
 },
 "nbformat": 4,
 "nbformat_minor": 5
}
